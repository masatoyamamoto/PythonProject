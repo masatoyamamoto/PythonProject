{
 "cells": [
  {
   "cell_type": "code",
   "execution_count": 2,
   "metadata": {},
   "outputs": [],
   "source": [
    "import pandas as pd\n",
    "import numpy as np"
   ]
  },
  {
   "cell_type": "code",
   "execution_count": 3,
   "metadata": {},
   "outputs": [],
   "source": [
    "df_data = pd.read_csv(\"suumoData.csv\", encoding=\"utf-16\")\n"
   ]
  },
  {
   "cell_type": "code",
   "execution_count": 4,
   "metadata": {},
   "outputs": [
    {
     "name": "stdout",
     "output_type": "stream",
     "text": [
      "       Unnamed: 0               name     price      location  \\\n",
      "0               0   ＜秀和めじろ台レジデンス＞椚田町    1280万円    東京都八王子市椚田町   \n",
      "1               1  東武西新井第一サンライトマンション    1390万円  東京都足立区西新井本町１   \n",
      "2               2       ライオンズマンション昭島    1480万円    東京都昭島市武蔵野２   \n",
      "3               3          ジードルンク多摩川    1480万円    東京都調布市多摩川５   \n",
      "4               4           トダカ西荻コーポ    1480万円    東京都杉並区西荻北３   \n",
      "...           ...                ...       ...           ...   \n",
      "24639       24639             アクシア麻布  3億3000万円    東京都港区麻布十番２   \n",
      "24640       24640     元麻布ヒルズフォレストタワー  3億4600万円     東京都港区元麻布１   \n",
      "24641       24641     ザ・パークハウスグラン南青山  3億7500万円     東京都港区南青山５   \n",
      "24642       24642          高輪ザ・レジデンス  4億5000万円      東京都港区高輪１   \n",
      "24643       24643      ＭＡＪＥＳ元麻布ガーデンズ  4億8500万円     東京都港区元麻布３   \n",
      "\n",
      "                   station                 size       floor  terrace       age  \n",
      "0            京王高尾線「狭間」徒歩8分      56.16m2（16.98坪）        2LDK    6.5m2  1972年12月  \n",
      "1           東武大師線「大師前」徒歩2分          54.58m2（壁芯）        2LDK   7.05m2   1971年6月  \n",
      "2         西武拝島線「西武立川」徒歩11分  50.59m2（15.30坪）（壁芯）        2LDK    8.1m2   1993年2月  \n",
      "3        京王相模原線「京王多摩川」徒歩3分              51.84m2        2LDK   4.56m2   1978年6月  \n",
      "4           ＪＲ中央線「西荻窪」徒歩5分   29.37m2（8.88坪）（壁芯）         2DK   2.75m2  1971年11月  \n",
      "...                    ...                  ...         ...      ...       ...  \n",
      "24639   東京メトロ南北線「麻布十番」徒歩1分         123.02m2（壁芯）  3LDK+S（納戸）   9.86m2   2005年5月  \n",
      "24640     都営大江戸線「麻布十番」徒歩6分         134.74m2（壁芯）        2LDK  10.83m2   2002年5月  \n",
      "24641    東京メトロ銀座線「表参道」徒歩4分            108m2（壁芯）        3LDK        -   2016年8月  \n",
      "24642       都営浅草線「高輪台」徒歩6分         208.79m2（壁芯）        2LDK  23.14m2  2005年10月  \n",
      "24643  東京メトロ南北線「麻布十番」徒歩10分         180.03m2（壁芯）        3LDK  15.12m2   2001年2月  \n",
      "\n",
      "[24644 rows x 9 columns]\n"
     ]
    }
   ],
   "source": [
    "print(df_data)"
   ]
  },
  {
   "cell_type": "code",
   "execution_count": null,
   "metadata": {},
   "outputs": [],
   "source": []
  }
 ],
 "metadata": {
  "kernelspec": {
   "display_name": "Python 3",
   "language": "python",
   "name": "python3"
  },
  "language_info": {
   "codemirror_mode": {
    "name": "ipython",
    "version": 3
   },
   "file_extension": ".py",
   "mimetype": "text/x-python",
   "name": "python",
   "nbconvert_exporter": "python",
   "pygments_lexer": "ipython3",
   "version": "3.7.4"
  }
 },
 "nbformat": 4,
 "nbformat_minor": 2
}
